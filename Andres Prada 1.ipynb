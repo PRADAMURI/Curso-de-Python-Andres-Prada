{
 "cells": [
  {
   "cell_type": "code",
   "execution_count": 24,
   "metadata": {},
   "outputs": [
    {
     "name": "stdout",
     "output_type": "stream",
     "text": [
      "4\n"
     ]
    }
   ],
   "source": [
    "dies = int(10)\n",
    "uno = int (1)\n",
    "dos = int (2)\n",
    "tres = int (3)\n",
    "print (dies - uno - dos - tres)"
   ]
  },
  {
   "cell_type": "code",
   "execution_count": 25,
   "metadata": {},
   "outputs": [
    {
     "name": "stdout",
     "output_type": "stream",
     "text": [
      "ingrese un numero: a\n",
      "ingrese otro numero: b\n",
      "Error, el usuario no tecleo lo solicitado.\n"
     ]
    }
   ],
   "source": [
    "\n",
    "def FuncionDeSuma():\n",
    "    try:\n",
    "        numerouno = input ('ingrese un numero: ')\n",
    "        numerodos = input ('ingrese otro numero: ')\n",
    "        numerounoSUMA = int(numerouno)\n",
    "        numerodosSUMA = int(numerodos)\n",
    "        suma = numerounoSUMA + numerodosSUMA\n",
    "        print (suma)\n",
    "    except:\n",
    "        print('Error, el usuario no tecleo lo solicitado.')\n",
    "FuncionDeSuma()"
   ]
  },
  {
   "cell_type": "code",
   "execution_count": null,
   "metadata": {},
   "outputs": [],
   "source": [
    "a = input ('Ingrese un numero: ')\n",
    "b = input ('Ingrese un numero: ')\n",
    "c = input ('Ingrese un numero: ')\n",
    "intA = int (a)\n",
    "intB = int (b)\n",
    "intC = int (c)\n",
    "suma = intA + intB +intC\n",
    "print (suma)"
   ]
  },
  {
   "cell_type": "code",
   "execution_count": 30,
   "metadata": {},
   "outputs": [
    {
     "name": "stdout",
     "output_type": "stream",
     "text": [
      "escriba un numero: a\n",
      "escriba un numero: 3\n",
      "oops! ingrese un numero\n",
      "escriba un numero: d\n",
      "escriba un numero: a\n",
      "oops! ingrese un numero\n",
      "escriba un numero: 2\n",
      "escriba un numero: 4\n",
      "24\n"
     ]
    }
   ],
   "source": [
    "while True:\n",
    "    try:\n",
    "        uno = input ('escriba un numero: ')\n",
    "        dos = input ('escriba un numero: ')\n",
    "        suma = uno+dos\n",
    "        Suma = int(suma)\n",
    "        print(Suma)\n",
    "        break\n",
    "    except ValueError:\n",
    "        print(\"oops! ingrese un numero\")"
   ]
  },
  {
   "cell_type": "markdown",
   "metadata": {},
   "source": []
  },
  {
   "cell_type": "code",
   "execution_count": null,
   "metadata": {},
   "outputs": [],
   "source": [
    "while True:\n",
    "    try:\n",
    "        uno = input ('escriba un numero')\n",
    "        dos = input ('escriba un numero')\n",
    "        suma = uno+dos\n",
    "        print(suma)\n",
    "        break\n",
    "    except ValueError\n",
    "        print(\"oops! ingrese un numero\")"
   ]
  },
  {
   "cell_type": "code",
   "execution_count": 36,
   "metadata": {},
   "outputs": [
    {
     "name": "stdout",
     "output_type": "stream",
     "text": [
      "digite un numero: -3\n",
      "equis es negativa\n"
     ]
    }
   ],
   "source": [
    "digite = input ('digite un numero: ')\n",
    "x = int(digite)\n",
    "if x > 0 :\n",
    "    print('equis es positiva')\n",
    "elif x == 0:\n",
    "    print ('equis es cero')\n",
    "else:\n",
    "    print ('equis es negativa')"
   ]
  },
  {
   "cell_type": "code",
   "execution_count": 38,
   "metadata": {},
   "outputs": [
    {
     "ename": "SyntaxError",
     "evalue": "invalid syntax (<ipython-input-38-82be3b3d087f>, line 3)",
     "output_type": "error",
     "traceback": [
      "\u001b[0;36m  File \u001b[0;32m\"<ipython-input-38-82be3b3d087f>\"\u001b[0;36m, line \u001b[0;32m3\u001b[0m\n\u001b[0;31m    print (\"Su nombre es: \" nombre)\u001b[0m\n\u001b[0m                                 ^\u001b[0m\n\u001b[0;31mSyntaxError\u001b[0m\u001b[0;31m:\u001b[0m invalid syntax\n"
     ]
    }
   ],
   "source": [
    "nombre = input ('Digite su nombre completo: ')\n",
    "salario = input ('Digite su salario mensual en miles de colones: ')\n",
    "print (\"Su nombre es: \" nombre)\n",
    "if salario > 200:\n",
    "    print('El individuo de nombre' nombre 'debe pagar impuestos')\n",
    "else:\n",
    "    print('El individuo de nombre' nombre 'no debe pagar impuestos')\n",
    "\n"
   ]
  },
  {
   "cell_type": "code",
   "execution_count": 45,
   "metadata": {},
   "outputs": [
    {
     "name": "stdout",
     "output_type": "stream",
     "text": [
      "Digite su nombre completo: pollo frito\n",
      "Digite su salario mensual en miles de colones: 2\n",
      "No pague impuestos\n"
     ]
    }
   ],
   "source": [
    "nombre = input ('Digite su nombre completo: ')\n",
    "salario = input ('Digite su salario mensual en miles de colones: ')\n",
    "intSalario = int(salario)\n",
    "if intSalario > 200:\n",
    "    print('Pague impuestos')\n",
    "else:\n",
    "    print('No pague impuestos')\n",
    "\n"
   ]
  },
  {
   "cell_type": "code",
   "execution_count": 52,
   "metadata": {},
   "outputs": [
    {
     "name": "stdout",
     "output_type": "stream",
     "text": [
      "Salario: 750\n",
      "pague 862.5\n"
     ]
    }
   ],
   "source": [
    "salario = input ('Salario: ')\n",
    "intSalario = int(salario)\n",
    "if intSalario <200:\n",
    "    print('pague ' , intSalario)\n",
    "elif  intSalario <400:\n",
    "    precioTotal = intSalario + intSalario /100 * 5\n",
    "    print ('pague' ,precioTotal)\n",
    "elif  intSalario < 600:\n",
    "    precioTotal = intSalario + intSalario /100 * 10\n",
    "    print ('pague' ,precioTotal)\n",
    "elif  intSalario< 999999999:\n",
    "    precioTotal = intSalario + intSalario /100 * 15\n",
    "    print ('pague' ,precioTotal)\n",
    "else:\n",
    "    print('el salario no pertenece al rango posible')\n",
    "\n"
   ]
  },
  {
   "cell_type": "code",
   "execution_count": 62,
   "metadata": {},
   "outputs": [
    {
     "name": "stdout",
     "output_type": "stream",
     "text": [
      "Escriba su nombre: 200\n",
      "Su nombre es:  200\n",
      "Salario: 200\n",
      "El usuario de nombre 200 debe pagar 210.0\n"
     ]
    }
   ],
   "source": [
    "nombre = input ('Escriba su nombre: ')\n",
    "print('Su nombre es: ' , nombre)\n",
    "salario = input ('Salario: ')\n",
    "intSalario = int(salario)\n",
    "\n",
    "\n",
    "if intSalario < 200:\n",
    "    print('El usuario de nombre: ' , nombre, 'debe pagar' , intSalario)\n",
    "elif  intSalario < 400:\n",
    "    precioTotal = intSalario + intSalario /100 * 5\n",
    "    print ('El usuario de nombre' , nombre ,'debe pagar' , precioTotal)\n",
    "elif  intSalario < 600:\n",
    "    precioTotal = intSalario + intSalario /100 * 10\n",
    "    print ('El usuario de nombre' , nombre ,'debe pagar' , precioTotal)\n",
    "elif  intSalario< 999999999:\n",
    "    precioTotal = intSalario + intSalario /100 * 15\n",
    "    print ('El usuario de nombre' , nombre, 'debe pagar' , precioTotal)\n",
    "else:\n",
    "    print('el salario no pertenece al rango posible')"
   ]
  },
  {
   "cell_type": "code",
   "execution_count": null,
   "metadata": {},
   "outputs": [],
   "source": []
  },
  {
   "cell_type": "code",
   "execution_count": null,
   "metadata": {},
   "outputs": [],
   "source": []
  }
 ],
 "metadata": {
  "kernelspec": {
   "display_name": "Python 3",
   "language": "python",
   "name": "python3"
  },
  "language_info": {
   "codemirror_mode": {
    "name": "ipython",
    "version": 3
   },
   "file_extension": ".py",
   "mimetype": "text/x-python",
   "name": "python",
   "nbconvert_exporter": "python",
   "pygments_lexer": "ipython3",
   "version": "3.5.2"
  }
 },
 "nbformat": 4,
 "nbformat_minor": 2
}
